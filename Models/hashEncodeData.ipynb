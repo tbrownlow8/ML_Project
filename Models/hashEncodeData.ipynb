{
 "cells": [
  {
   "cell_type": "code",
   "execution_count": null,
   "metadata": {},
   "outputs": [],
   "source": [
    "pip install category_encoders"
   ]
  },
  {
   "cell_type": "code",
   "execution_count": null,
   "metadata": {},
   "outputs": [],
   "source": [
    "import numpy as np\n",
    "import pandas as pd\n",
    "from keras import layers, models, backend, optimizers\n",
    "import category_encoders as ce\n",
    "import matplotlib.pyplot as plt\n",
    "from matplotlib.patches import mlines\n",
    "\n",
    "data = pd.read_csv(\"./encoded_movies.csv\", encoding='latin-1')\n",
    "data.head()\n",
    "\n",
    "ce_hash = ce.HashingEncoder(n_components=96)\n",
    "data = ce_hash.hashing_trick(data, N=96, cols=['Company', 'Director', 'Star', 'Writer'])"
   ]
  },
  {
   "cell_type": "code",
   "execution_count": null,
   "metadata": {},
   "outputs": [],
   "source": [
    "data = data.sample(frac=1).reset_index(drop=True)\n",
    "y = data['Gross'].values\n",
    "data = data.drop(['Profit'], axis = 1)\n",
    "data = data.drop(['Gross'], axis = 1)\n",
    "x = data.values\n",
    "train_size = np.round(x.shape[0] * 0.75).astype(np.int32)\n",
    "x_train = x[0:train_size]\n",
    "y_train = y[0:train_size]\n",
    "x_test = x[train_size:]\n",
    "y_test = y[train_size:]"
   ]
  }
 ],
 "metadata": {
  "kernelspec": {
   "display_name": "Python 3",
   "language": "python",
   "name": "python3"
  },
  "language_info": {
   "codemirror_mode": {
    "name": "ipython",
    "version": 3
   },
   "file_extension": ".py",
   "mimetype": "text/x-python",
   "name": "python",
   "nbconvert_exporter": "python",
   "pygments_lexer": "ipython3",
   "version": "3.7.3"
  }
 },
 "nbformat": 4,
 "nbformat_minor": 2
}
